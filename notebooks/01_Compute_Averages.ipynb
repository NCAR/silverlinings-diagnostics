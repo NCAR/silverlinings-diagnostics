{
 "cells": [
  {
   "cell_type": "markdown",
   "metadata": {},
   "source": [
    "# Temperature Diagnostics\n",
    "\n",
    "Once you copy this repository, feel free to delete this notebook!"
   ]
  },
  {
   "cell_type": "markdown",
   "metadata": {},
   "source": [
    "## Imports"
   ]
  },
  {
   "cell_type": "code",
   "execution_count": 1,
   "metadata": {},
   "outputs": [],
   "source": [
    "# Display output of plots directly in Notebook\n",
    "%matplotlib inline\n",
    "import warnings\n",
    "warnings.filterwarnings(\"ignore\")\n",
    "\n",
    "import intake\n",
    "import numpy as np\n",
    "import pandas as pd\n",
    "import xarray as xr\n",
    "from ncar_jobqueue import NCARCluster\n",
    "from distributed import Client"
   ]
  },
  {
   "cell_type": "markdown",
   "metadata": {},
   "source": [
    "## Spin up a Cluster"
   ]
  },
  {
   "cell_type": "code",
   "execution_count": null,
   "metadata": {},
   "outputs": [],
   "source": [
    "cluster = NCARCluster(memory='10 GB')\n",
    "cluster.scale(20)\n",
    "client = Client(cluster)\n",
    "client"
   ]
  },
  {
   "cell_type": "markdown",
   "metadata": {},
   "source": [
    "## Data Ingest"
   ]
  },
  {
   "cell_type": "code",
   "execution_count": null,
   "metadata": {},
   "outputs": [],
   "source": [
    "# Read in the data using xarray or some other package\n",
    "data_catalog = intake.open_esm_datastore('data/silver-linings-test.json')"
   ]
  },
  {
   "cell_type": "markdown",
   "metadata": {},
   "source": [
    "### Subset for 2m Temperature"
   ]
  },
  {
   "cell_type": "code",
   "execution_count": null,
   "metadata": {
    "tags": []
   },
   "outputs": [],
   "source": [
    "data_subset = data_catalog.search(frequency='month_1', variable='TREFHT')"
   ]
  },
  {
   "cell_type": "code",
   "execution_count": null,
   "metadata": {},
   "outputs": [],
   "source": [
    "data_subset.df"
   ]
  },
  {
   "cell_type": "markdown",
   "metadata": {},
   "source": [
    "### Read in the dictionary of datasets"
   ]
  },
  {
   "cell_type": "code",
   "execution_count": null,
   "metadata": {},
   "outputs": [],
   "source": [
    "dsets = data_subset.to_dataset_dict(cdf_kwargs={'chunks':{'time':36}})"
   ]
  },
  {
   "cell_type": "code",
   "execution_count": null,
   "metadata": {},
   "outputs": [],
   "source": [
    "dsets['atm.cam.h0.b.e21.BW.f09_g17.SSP245-TSMLT-GAUSS-DEFAULT.003']"
   ]
  },
  {
   "cell_type": "markdown",
   "metadata": {
    "tags": []
   },
   "source": [
    "### Data Operation\n",
    "\n",
    "First, we set up a few helper functions..."
   ]
  },
  {
   "cell_type": "code",
   "execution_count": null,
   "metadata": {},
   "outputs": [],
   "source": [
    "def area_grid(lat, lon):\n",
    "    \"\"\"\n",
    "    Calculate the area of each grid cell\n",
    "    Area is in square meters\n",
    "    \n",
    "    Input\n",
    "    -----------\n",
    "    lat: vector of latitude in degrees\n",
    "    lon: vector of longitude in degrees\n",
    "    \n",
    "    Output\n",
    "    -----------\n",
    "    area: grid-cell area in square-meters with dimensions, [lat,lon]\n",
    "    \n",
    "    Notes\n",
    "    -----------\n",
    "    Based on the function in\n",
    "    https://github.com/chadagreene/CDT/blob/master/cdt/cdtarea.m\n",
    "    \"\"\"\n",
    "    from numpy import meshgrid, deg2rad, gradient, cos\n",
    "    from xarray import DataArray\n",
    "\n",
    "    xlon, ylat = meshgrid(lon, lat)\n",
    "    R = earth_radius(ylat)\n",
    "\n",
    "    dlat = deg2rad(gradient(ylat, axis=0))\n",
    "    dlon = deg2rad(gradient(xlon, axis=1))\n",
    "\n",
    "    dy = dlat * R\n",
    "    dx = dlon * R * cos(deg2rad(ylat))\n",
    "\n",
    "    area = dy * dx\n",
    "\n",
    "    xda = DataArray(\n",
    "        area,\n",
    "        dims=[\"lat\", \"lon\"],\n",
    "        coords={\"lat\": lat, \"lon\": lon},\n",
    "        attrs={\n",
    "            \"long_name\": \"area_per_pixel\",\n",
    "            \"description\": \"area per pixel\",\n",
    "            \"units\": \"m^2\",\n",
    "        },\n",
    "    )\n",
    "    return xda"
   ]
  },
  {
   "cell_type": "code",
   "execution_count": null,
   "metadata": {},
   "outputs": [],
   "source": [
    "def earth_radius(lat):\n",
    "    '''\n",
    "    calculate radius of Earth assuming oblate spheroid\n",
    "    defined by WGS84\n",
    "    \n",
    "    Input\n",
    "    ---------\n",
    "    lat: vector or latitudes in degrees  \n",
    "    \n",
    "    Output\n",
    "    ----------\n",
    "    r: vector of radius in meters\n",
    "    \n",
    "    Notes\n",
    "    -----------\n",
    "    WGS84: https://earth-info.nga.mil/GandG/publications/tr8350.2/tr8350.2-a/Chapter%203.pdf\n",
    "    '''\n",
    "    from numpy import deg2rad, sin, cos\n",
    "\n",
    "    # define oblate spheroid from WGS84\n",
    "    a = 6378137\n",
    "    b = 6356752.3142\n",
    "    e2 = 1 - (b**2/a**2)\n",
    "    \n",
    "    # convert from geodecic to geocentric\n",
    "    # see equation 3-110 in WGS84\n",
    "    lat = deg2rad(lat)\n",
    "    lat_gc = np.arctan( (1-e2)*np.tan(lat) )\n",
    "\n",
    "    # radius equation\n",
    "    # see equation 3-107 in WGS84\n",
    "    r = (\n",
    "        (a * (1 - e2)**0.5) \n",
    "         / (1 - (e2 * np.cos(lat_gc)**2))**0.5 \n",
    "        )\n",
    "\n",
    "    return r"
   ]
  },
  {
   "cell_type": "code",
   "execution_count": null,
   "metadata": {},
   "outputs": [],
   "source": [
    "def center_time(ds):\n",
    "    \"\"\"make time the center of the time bounds\"\"\"\n",
    "    ds = ds.copy()\n",
    "    attrs = ds.time.attrs\n",
    "    encoding = ds.time.encoding\n",
    "    tb_name, tb_dim = _get_tb_name_and_tb_dim(ds)\n",
    "    \n",
    "    ds['time'] = ds[tb_name].compute().mean(tb_dim).squeeze()\n",
    "    attrs['note'] = f'time recomputed as {tb_name}.mean({tb_dim})'\n",
    "    ds.time.attrs = attrs\n",
    "    ds.time.encoding = encoding\n",
    "    return ds\n",
    "\n",
    "def _get_tb_name_and_tb_dim(ds):\n",
    "    \"\"\"return the name of the time 'bounds' variable and its second dimension\"\"\"\n",
    "    assert 'bounds' in ds.time.attrs, 'missing \"bounds\" attr on time'\n",
    "    tb_name = ds.time.attrs['bounds']        \n",
    "    assert tb_name in ds, f'missing \"{tb_name}\"'    \n",
    "    tb_dim = ds[tb_name].dims[-1]\n",
    "    return tb_name, tb_dim"
   ]
  },
  {
   "cell_type": "code",
   "execution_count": null,
   "metadata": {},
   "outputs": [],
   "source": [
    "def calc_area_weighted_mean(ds):\n",
    "    ds = center_time(ds.sortby('time'))\n",
    "    # Do some sort of calculation on the data\n",
    "    ds_out = (\n",
    "        (ds.resample(time=\"AS\").mean(\"time\") * da_area).sum(dim=(\"lat\", \"lon\"))\n",
    "    ) / total_area\n",
    "    return ds_out\n",
    "\n",
    "def convert_to_df(ds):\n",
    "    return ds.TREFHT.to_series().unstack().T"
   ]
  },
  {
   "cell_type": "markdown",
   "metadata": {},
   "source": [
    "### Compute the area for the weights"
   ]
  },
  {
   "cell_type": "code",
   "execution_count": null,
   "metadata": {
    "tags": []
   },
   "outputs": [],
   "source": [
    "# area dataArray\n",
    "ds = dsets['atm.cam.h0.b.e21.BW.f09_g17.SSP245-TSMLT-GAUSS-DEFAULT.003']\n",
    "\n",
    "da_area = area_grid(ds['lat'], ds['lon'])\n",
    "\n",
    "# total area\n",
    "total_area = da_area.sum(['lat','lon'])"
   ]
  },
  {
   "cell_type": "markdown",
   "metadata": {},
   "source": [
    "### Setup which variables to average"
   ]
  },
  {
   "cell_type": "code",
   "execution_count": null,
   "metadata": {},
   "outputs": [],
   "source": [
    "variables = ['TREFHT']"
   ]
  },
  {
   "cell_type": "markdown",
   "metadata": {},
   "source": [
    "## Run the computation on each dataset"
   ]
  },
  {
   "cell_type": "code",
   "execution_count": null,
   "metadata": {},
   "outputs": [],
   "source": [
    "xr.set_options(keep_attrs=True)\n",
    "ds_list = []\n",
    "for key in dsets.keys():\n",
    "    ds = dsets[key]\n",
    "    mean = calc_area_weighted_mean(ds)\n",
    "    out = mean[variables]\n",
    "    out.attrs['intake_esm_varname'] = variables\n",
    "    out.attrs['case'] = ds.case\n",
    "    ds_list.append(out)"
   ]
  },
  {
   "cell_type": "markdown",
   "metadata": {},
   "source": [
    "### Here we add additional case information"
   ]
  },
  {
   "cell_type": "code",
   "execution_count": null,
   "metadata": {},
   "outputs": [],
   "source": [
    "cases = []\n",
    "for ds in ds_list:\n",
    "    cases.append(ds.case)"
   ]
  },
  {
   "cell_type": "code",
   "execution_count": null,
   "metadata": {},
   "outputs": [],
   "source": [
    "merged_ds = xr.concat(ds_list, dim='case')"
   ]
  },
  {
   "cell_type": "code",
   "execution_count": null,
   "metadata": {},
   "outputs": [],
   "source": [
    "merged_ds['case'] = cases"
   ]
  },
  {
   "cell_type": "code",
   "execution_count": null,
   "metadata": {},
   "outputs": [],
   "source": [
    "merged_ds.persist()"
   ]
  },
  {
   "cell_type": "markdown",
   "metadata": {},
   "source": [
    "### Use datetime index instead of cftime"
   ]
  },
  {
   "cell_type": "code",
   "execution_count": null,
   "metadata": {},
   "outputs": [],
   "source": [
    "datetimeindex = merged_ds.indexes['time'].to_datetimeindex()"
   ]
  },
  {
   "cell_type": "code",
   "execution_count": null,
   "metadata": {},
   "outputs": [],
   "source": [
    "merged_ds['time'] = datetimeindex"
   ]
  },
  {
   "cell_type": "markdown",
   "metadata": {},
   "source": [
    "## Save the dataset"
   ]
  },
  {
   "cell_type": "code",
   "execution_count": null,
   "metadata": {},
   "outputs": [],
   "source": [
    "merged_ds.to_netcdf('global_average_temperature.nc')"
   ]
  },
  {
   "cell_type": "code",
   "execution_count": null,
   "metadata": {},
   "outputs": [],
   "source": [
    "print(datetimeindex)"
   ]
  },
  {
   "cell_type": "code",
   "execution_count": null,
   "metadata": {},
   "outputs": [],
   "source": []
  }
 ],
 "metadata": {
  "kernelspec": {
   "display_name": "Python [conda env:miniconda3-silverlinings-diagnostics-dev]",
   "language": "python",
   "name": "conda-env-miniconda3-silverlinings-diagnostics-dev-py"
  },
  "language_info": {
   "codemirror_mode": {
    "name": "ipython",
    "version": 3
   },
   "file_extension": ".py",
   "mimetype": "text/x-python",
   "name": "python",
   "nbconvert_exporter": "python",
   "pygments_lexer": "ipython3",
   "version": "3.9.7"
  }
 },
 "nbformat": 4,
 "nbformat_minor": 4
}
